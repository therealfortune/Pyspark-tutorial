{
    "metadata": {
        "kernelspec": {
            "name": "python3",
            "display_name": "Python 3 (ipykernel)",
            "language": "python"
        },
        "language_info": {
            "name": "python",
            "version": "3.8.10",
            "mimetype": "text/x-python",
            "codemirror_mode": {
                "name": "ipython",
                "version": 3
            },
            "pygments_lexer": "ipython3",
            "nbconvert_exporter": "python",
            "file_extension": ".py"
        }
    },
    "nbformat_minor": 2,
    "nbformat": 4,
    "cells": [
        {
            "cell_type": "code",
            "source": [
                "import pyspark\r\n",
                "import pandas as pd "
            ],
            "metadata": {
                "azdata_cell_guid": "c123ce16-84cc-49c9-9759-24d29930ec5d"
            },
            "outputs": [],
            "execution_count": 1
        },
        {
            "cell_type": "code",
            "source": [
                "pd.read_csv('test1.csv')"
            ],
            "metadata": {
                "azdata_cell_guid": "f18609da-19d9-4ca1-bbb4-110875c44aab"
            },
            "outputs": [
                {
                    "data": {
                        "text/plain": "      Name  Age\n0  Fortune   20\n1   Amanda   22\n2   Victor   20",
                        "text/html": "<div>\n<style scoped>\n    .dataframe tbody tr th:only-of-type {\n        vertical-align: middle;\n    }\n\n    .dataframe tbody tr th {\n        vertical-align: top;\n    }\n\n    .dataframe thead th {\n        text-align: right;\n    }\n</style>\n<table border=\"1\" class=\"dataframe\">\n  <thead>\n    <tr style=\"text-align: right;\">\n      <th></th>\n      <th>Name</th>\n      <th>Age</th>\n    </tr>\n  </thead>\n  <tbody>\n    <tr>\n      <th>0</th>\n      <td>Fortune</td>\n      <td>20</td>\n    </tr>\n    <tr>\n      <th>1</th>\n      <td>Amanda</td>\n      <td>22</td>\n    </tr>\n    <tr>\n      <th>2</th>\n      <td>Victor</td>\n      <td>20</td>\n    </tr>\n  </tbody>\n</table>\n</div>"
                    },
                    "metadata": {},
                    "execution_count": 30,
                    "output_type": "execute_result"
                }
            ],
            "execution_count": 30
        },
        {
            "cell_type": "code",
            "source": [
                "from pyspark.sql import SparkSession"
            ],
            "metadata": {
                "azdata_cell_guid": "fd5ace68-0dd6-43ad-8f11-c3d0d7f07c30"
            },
            "outputs": [],
            "execution_count": null
        },
        {
            "cell_type": "code",
            "source": [
                "spark = SparkSession.builder.appName(\"Practice\").getOrCreate()"
            ],
            "metadata": {
                "azdata_cell_guid": "7a12b18e-9b08-4b11-b684-dc8fe734f6c4"
            },
            "outputs": [],
            "execution_count": 7
        },
        {
            "cell_type": "code",
            "source": [
                "spark"
            ],
            "metadata": {
                "azdata_cell_guid": "7863b261-7faa-45f5-9ba7-9a0e9fac906e"
            },
            "outputs": [
                {
                    "data": {
                        "text/plain": "<pyspark.sql.session.SparkSession at 0x1ef8a5ab0a0>",
                        "text/html": "\n            <div>\n                <p><b>SparkSession - in-memory</b></p>\n                \n        <div>\n            <p><b>SparkContext</b></p>\n\n            <p><a href=\"http://host.docker.internal:4040\">Spark UI</a></p>\n\n            <dl>\n              <dt>Version</dt>\n                <dd><code>v3.3.0</code></dd>\n              <dt>Master</dt>\n                <dd><code>local[*]</code></dd>\n              <dt>AppName</dt>\n                <dd><code>Practice</code></dd>\n            </dl>\n        </div>\n        \n            </div>\n        "
                    },
                    "metadata": {},
                    "execution_count": 8,
                    "output_type": "execute_result"
                }
            ],
            "execution_count": 8
        },
        {
            "cell_type": "code",
            "source": [
                "df_spark = spark.read.csv(\"test1.csv\")"
            ],
            "metadata": {
                "azdata_cell_guid": "042fde4e-4585-474a-bca0-f0ac7584b354"
            },
            "outputs": [],
            "execution_count": 14
        },
        {
            "cell_type": "code",
            "source": [
                "df_spark.show()"
            ],
            "metadata": {
                "azdata_cell_guid": "25043bc7-e8ef-453d-a9b2-ac95e44e2da1"
            },
            "outputs": [
                {
                    "name": "stdout",
                    "text": "+-------+---+\n|    _c0|_c1|\n+-------+---+\n|   Name|Age|\n|Fortune| 20|\n| Amanda| 22|\n| Victor| 20|\n+-------+---+\n\n",
                    "output_type": "stream"
                }
            ],
            "execution_count": 31
        },
        {
            "cell_type": "code",
            "source": [
                "spark_df = spark.read.option('header','true').csv('test1.csv')"
            ],
            "metadata": {
                "azdata_cell_guid": "6d7003ce-0042-4e16-9373-0e1e10c8a03d"
            },
            "outputs": [],
            "execution_count": 16
        },
        {
            "cell_type": "code",
            "source": [
                "spark_df.show()"
            ],
            "metadata": {
                "azdata_cell_guid": "75cde295-42b5-4a45-b209-e97dc01ee12f"
            },
            "outputs": [
                {
                    "name": "stdout",
                    "text": "+-------+---+\n|   Name|Age|\n+-------+---+\n|Fortune| 20|\n| Amanda| 22|\n| Victor| 20|\n+-------+---+\n\n",
                    "output_type": "stream"
                }
            ],
            "execution_count": 18
        },
        {
            "cell_type": "code",
            "source": [
                "type(spark_df)"
            ],
            "metadata": {
                "azdata_cell_guid": "3b082595-3ea2-41cb-a5d4-c18cb8dc9211"
            },
            "outputs": [
                {
                    "data": {
                        "text/plain": "pyspark.sql.dataframe.DataFrame"
                    },
                    "metadata": {},
                    "execution_count": 27,
                    "output_type": "execute_result"
                }
            ],
            "execution_count": 27
        },
        {
            "cell_type": "code",
            "source": [
                "spark_df.dtypes"
            ],
            "metadata": {
                "azdata_cell_guid": "1e304a18-1c18-4a36-8704-e0cdc6b397b4"
            },
            "outputs": [
                {
                    "data": {
                        "text/plain": "[('Name', 'string'), ('Age', 'string')]"
                    },
                    "metadata": {},
                    "execution_count": 33,
                    "output_type": "execute_result"
                }
            ],
            "execution_count": 33
        }
    ]
}