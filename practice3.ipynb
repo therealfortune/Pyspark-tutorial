{
    "metadata": {
        "kernelspec": {
            "name": "python3",
            "display_name": "Python 3 (ipykernel)",
            "language": "python"
        },
        "language_info": {
            "name": "python",
            "version": "3.8.10",
            "mimetype": "text/x-python",
            "codemirror_mode": {
                "name": "ipython",
                "version": 3
            },
            "pygments_lexer": "ipython3",
            "nbconvert_exporter": "python",
            "file_extension": ".py"
        }
    },
    "nbformat_minor": 2,
    "nbformat": 4,
    "cells": [
        {
            "cell_type": "code",
            "source": [
                "import pyspark\r\n",
                "import pandas as pd \r\n",
                "import numpy as np"
            ],
            "metadata": {
                "azdata_cell_guid": "38527227-c6d4-4660-9fc6-c636039ea4bc",
                "language": "python"
            },
            "outputs": [],
            "execution_count": 1
        },
        {
            "cell_type": "code",
            "source": [
                "from pyspark.sql import SparkSession"
            ],
            "metadata": {
                "azdata_cell_guid": "9a938bd2-660b-49ba-ad48-65af9ed5fc6f",
                "language": "python"
            },
            "outputs": [],
            "execution_count": 2
        },
        {
            "cell_type": "code",
            "source": [
                "spark = SparkSession.builder.appName('dfl').getOrCreate()"
            ],
            "metadata": {
                "azdata_cell_guid": "dbe5d37e-b628-4334-ba00-6248f4ad8ff1",
                "language": "python"
            },
            "outputs": [],
            "execution_count": 3
        },
        {
            "cell_type": "code",
            "source": [
                "spark"
            ],
            "metadata": {
                "azdata_cell_guid": "d7f129d6-b62a-425d-999a-48533787073f",
                "language": "python"
            },
            "outputs": [
                {
                    "data": {
                        "text/plain": "<pyspark.sql.session.SparkSession at 0x28bc8ea3a90>",
                        "text/html": "\n            <div>\n                <p><b>SparkSession - in-memory</b></p>\n                \n        <div>\n            <p><b>SparkContext</b></p>\n\n            <p><a href=\"http://host.docker.internal:4040\">Spark UI</a></p>\n\n            <dl>\n              <dt>Version</dt>\n                <dd><code>v3.3.0</code></dd>\n              <dt>Master</dt>\n                <dd><code>local[*]</code></dd>\n              <dt>AppName</dt>\n                <dd><code>dfl</code></dd>\n            </dl>\n        </div>\n        \n            </div>\n        "
                    },
                    "metadata": {},
                    "execution_count": 5,
                    "output_type": "execute_result"
                }
            ],
            "execution_count": 5
        },
        {
            "cell_type": "code",
            "source": [
                "filepath = \"file3.csv\""
            ],
            "metadata": {
                "azdata_cell_guid": "f9da3e67-8078-49f1-9a29-900385a12ee6",
                "language": "python"
            },
            "outputs": [],
            "execution_count": 7
        },
        {
            "cell_type": "code",
            "source": [
                "df = spark.read.csv(filepath, header = True , inferSchema = True)"
            ],
            "metadata": {
                "azdata_cell_guid": "ec612974-0ad6-4844-aaa2-a661c0136654",
                "language": "python"
            },
            "outputs": [],
            "execution_count": 10
        },
        {
            "cell_type": "code",
            "source": [
                "df.show()"
            ],
            "metadata": {
                "azdata_cell_guid": "6b0e79b5-1d0c-4f92-a0f1-d7f0ceda3a9c",
                "language": "python"
            },
            "outputs": [
                {
                    "name": "stdout",
                    "text": "+---------+------------+------+\n|     Name| Departments|salary|\n+---------+------------+------+\n|    Krish|Data Science| 10000|\n|    Krish|         IOT|  5000|\n|   Mahesh|    Big Data|  4000|\n|    Krish|    Big Data|  4000|\n|   Mahesh|Data Science|  3000|\n|Sudhanshu|Data Science| 20000|\n|Sudhanshu|         IOT| 10000|\n|Sudhanshu|    Big Data|  5000|\n|    Sunny|Data Science| 10000|\n|    Sunny|    Big Data|  2000|\n+---------+------------+------+\n\n",
                    "output_type": "stream"
                }
            ],
            "execution_count": 11
        },
        {
            "cell_type": "code",
            "source": [
                "# LEt us get the salaries of people >= 15000\r\n",
                "\r\n",
                "df.filter(\"salary >= 15000\").show()"
            ],
            "metadata": {
                "azdata_cell_guid": "b4f2bb12-afb5-4ee8-a51a-46085b48f739",
                "language": "python"
            },
            "outputs": [
                {
                    "name": "stdout",
                    "text": "+---------+------------+------+\n|     Name| Departments|salary|\n+---------+------------+------+\n|Sudhanshu|Data Science| 20000|\n+---------+------------+------+\n\n",
                    "output_type": "stream"
                }
            ],
            "execution_count": 13
        },
        {
            "cell_type": "code",
            "source": [
                "df.filter('salary > 8000').select(['Name', 'Departments']).show()"
            ],
            "metadata": {
                "azdata_cell_guid": "259b5f4a-5e03-4f0c-be76-b832113a440b",
                "language": "python"
            },
            "outputs": [
                {
                    "name": "stdout",
                    "text": "+---------+------------+\n|     Name| Departments|\n+---------+------------+\n|    Krish|Data Science|\n|Sudhanshu|Data Science|\n|Sudhanshu|         IOT|\n|    Sunny|Data Science|\n+---------+------------+\n\n",
                    "output_type": "stream"
                }
            ],
            "execution_count": 26
        },
        {
            "cell_type": "code",
            "source": [
                "df.filter((df['salary'] > 5000) |\r\n",
                "            (df['salary'] < 17000)).show()"
            ],
            "metadata": {
                "azdata_cell_guid": "396eeb55-a468-45f5-963e-2a08b07ad7e7",
                "language": "python"
            },
            "outputs": [
                {
                    "name": "stdout",
                    "text": "+---------+------------+------+\n|     Name| Departments|salary|\n+---------+------------+------+\n|    Krish|Data Science| 10000|\n|    Krish|         IOT|  5000|\n|   Mahesh|    Big Data|  4000|\n|    Krish|    Big Data|  4000|\n|   Mahesh|Data Science|  3000|\n|Sudhanshu|Data Science| 20000|\n|Sudhanshu|         IOT| 10000|\n|Sudhanshu|    Big Data|  5000|\n|    Sunny|Data Science| 10000|\n|    Sunny|    Big Data|  2000|\n+---------+------------+------+\n\n",
                    "output_type": "stream"
                }
            ],
            "execution_count": 42
        },
        {
            "cell_type": "code",
            "source": [
                "# ~ returns the opposite\r\n",
                "df.filter(~(df['salary'] > 16000)).show()"
            ],
            "metadata": {
                "azdata_cell_guid": "42688ebc-e8d9-419a-987f-1b1bcf462b6c",
                "language": "python"
            },
            "outputs": [
                {
                    "name": "stdout",
                    "text": "+---------+------------+------+\n|     Name| Departments|salary|\n+---------+------------+------+\n|    Krish|Data Science| 10000|\n|    Krish|         IOT|  5000|\n|   Mahesh|    Big Data|  4000|\n|    Krish|    Big Data|  4000|\n|   Mahesh|Data Science|  3000|\n|Sudhanshu|         IOT| 10000|\n|Sudhanshu|    Big Data|  5000|\n|    Sunny|Data Science| 10000|\n|    Sunny|    Big Data|  2000|\n+---------+------------+------+\n\n",
                    "output_type": "stream"
                }
            ],
            "execution_count": 46
        },
        {
            "cell_type": "code",
            "source": [
                ""
            ],
            "metadata": {
                "azdata_cell_guid": "704975f1-66f9-42ba-b11a-cd9fd31d018f",
                "language": "python"
            },
            "outputs": [],
            "execution_count": null
        },
        {
            "cell_type": "code",
            "source": [
                ""
            ],
            "metadata": {
                "azdata_cell_guid": "bc39c8b5-7634-42ea-9561-db0d8cf4bba8",
                "language": "python"
            },
            "outputs": [],
            "execution_count": null
        }
    ]
}