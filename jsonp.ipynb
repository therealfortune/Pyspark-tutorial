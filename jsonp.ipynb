{
    "metadata": {
        "kernelspec": {
            "name": "python3",
            "display_name": "Python 3 (ipykernel)",
            "language": "python"
        },
        "language_info": {
            "name": "python",
            "version": "3.8.10",
            "mimetype": "text/x-python",
            "codemirror_mode": {
                "name": "ipython",
                "version": 3
            },
            "pygments_lexer": "ipython3",
            "nbconvert_exporter": "python",
            "file_extension": ".py"
        }
    },
    "nbformat_minor": 2,
    "nbformat": 4,
    "cells": [
        {
            "cell_type": "code",
            "source": [
                "path =\"PT1H.json\"\r\n",
                "\r\n",
                "import pandas as pd"
            ],
            "metadata": {
                "azdata_cell_guid": "1f3e4717-52f5-4575-b7b8-071bef5d5eca",
                "language": "python",
                "tags": [
                    "hide_input"
                ]
            },
            "outputs": [],
            "execution_count": 4
        },
        {
            "cell_type": "code",
            "source": [
                "pd.read_json(path, lines = True)"
            ],
            "metadata": {
                "azdata_cell_guid": "9e70f8ec-0ab0-43ef-ab43-8a9675e999db",
                "language": "python"
            },
            "outputs": [
                {
                    "output_type": "execute_result",
                    "execution_count": 5,
                    "data": {
                        "text/plain": "     count         total       minimum       maximum       average  \\\n0        1  0.000000e+00  0.000000e+00  0.000000e+00  0.000000e+00   \n1        1  1.000000e-02  1.000000e-02  1.000000e-02  1.000000e-02   \n2        1  0.000000e+00  0.000000e+00  0.000000e+00  0.000000e+00   \n3        1  1.600000e+01  1.600000e+01  1.600000e+01  1.600000e+01   \n4        1  1.600000e+01  1.600000e+01  1.600000e+01  1.600000e+01   \n..     ...           ...           ...           ...           ...   \n236      2  1.200000e+01  6.000000e+00  6.000000e+00  6.000000e+00   \n237      2  1.200000e+01  6.000000e+00  6.000000e+00  6.000000e+00   \n238      2  1.379648e+10  6.898238e+09  6.898238e+09  6.898238e+09   \n239      2  1.379648e+10  6.898238e+09  6.898238e+09  6.898238e+09   \n240      2  1.379648e+10  6.898238e+09  6.898238e+09  6.898238e+09   \n\n                                            resourceId  \\\n0    /SUBSCRIPTIONS/E5250E15-0516-48F0-889B-DAE6C15...   \n1    /SUBSCRIPTIONS/E5250E15-0516-48F0-889B-DAE6C15...   \n2    /SUBSCRIPTIONS/E5250E15-0516-48F0-889B-DAE6C15...   \n3    /SUBSCRIPTIONS/E5250E15-0516-48F0-889B-DAE6C15...   \n4    /SUBSCRIPTIONS/E5250E15-0516-48F0-889B-DAE6C15...   \n..                                                 ...   \n236  /SUBSCRIPTIONS/E5250E15-0516-48F0-889B-DAE6C15...   \n237  /SUBSCRIPTIONS/E5250E15-0516-48F0-889B-DAE6C15...   \n238  /SUBSCRIPTIONS/E5250E15-0516-48F0-889B-DAE6C15...   \n239  /SUBSCRIPTIONS/E5250E15-0516-48F0-889B-DAE6C15...   \n240  /SUBSCRIPTIONS/E5250E15-0516-48F0-889B-DAE6C15...   \n\n                             time           metricName timeGrain  \n0    2021-02-16T17:36:00.0000000Z          cpu_percent      PT1M  \n1    2021-02-16T17:37:00.0000000Z          cpu_percent      PT1M  \n2    2021-02-16T17:38:00.0000000Z          cpu_percent      PT1M  \n3    2021-02-16T17:36:00.0000000Z       memory_percent      PT1M  \n4    2021-02-16T17:37:00.0000000Z       memory_percent      PT1M  \n..                            ...                  ...       ...  \n236  2021-02-16T17:58:00.0000000Z   active_connections      PT1M  \n237  2021-02-16T17:59:00.0000000Z   active_connections      PT1M  \n238  2021-02-16T17:57:00.0000000Z  backup_storage_used      PT1M  \n239  2021-02-16T17:58:00.0000000Z  backup_storage_used      PT1M  \n240  2021-02-16T17:59:00.0000000Z  backup_storage_used      PT1M  \n\n[241 rows x 9 columns]",
                        "text/html": "<div>\n<style scoped>\n    .dataframe tbody tr th:only-of-type {\n        vertical-align: middle;\n    }\n\n    .dataframe tbody tr th {\n        vertical-align: top;\n    }\n\n    .dataframe thead th {\n        text-align: right;\n    }\n</style>\n<table border=\"1\" class=\"dataframe\">\n  <thead>\n    <tr style=\"text-align: right;\">\n      <th></th>\n      <th>count</th>\n      <th>total</th>\n      <th>minimum</th>\n      <th>maximum</th>\n      <th>average</th>\n      <th>resourceId</th>\n      <th>time</th>\n      <th>metricName</th>\n      <th>timeGrain</th>\n    </tr>\n  </thead>\n  <tbody>\n    <tr>\n      <th>0</th>\n      <td>1</td>\n      <td>0.000000e+00</td>\n      <td>0.000000e+00</td>\n      <td>0.000000e+00</td>\n      <td>0.000000e+00</td>\n      <td>/SUBSCRIPTIONS/E5250E15-0516-48F0-889B-DAE6C15...</td>\n      <td>2021-02-16T17:36:00.0000000Z</td>\n      <td>cpu_percent</td>\n      <td>PT1M</td>\n    </tr>\n    <tr>\n      <th>1</th>\n      <td>1</td>\n      <td>1.000000e-02</td>\n      <td>1.000000e-02</td>\n      <td>1.000000e-02</td>\n      <td>1.000000e-02</td>\n      <td>/SUBSCRIPTIONS/E5250E15-0516-48F0-889B-DAE6C15...</td>\n      <td>2021-02-16T17:37:00.0000000Z</td>\n      <td>cpu_percent</td>\n      <td>PT1M</td>\n    </tr>\n    <tr>\n      <th>2</th>\n      <td>1</td>\n      <td>0.000000e+00</td>\n      <td>0.000000e+00</td>\n      <td>0.000000e+00</td>\n      <td>0.000000e+00</td>\n      <td>/SUBSCRIPTIONS/E5250E15-0516-48F0-889B-DAE6C15...</td>\n      <td>2021-02-16T17:38:00.0000000Z</td>\n      <td>cpu_percent</td>\n      <td>PT1M</td>\n    </tr>\n    <tr>\n      <th>3</th>\n      <td>1</td>\n      <td>1.600000e+01</td>\n      <td>1.600000e+01</td>\n      <td>1.600000e+01</td>\n      <td>1.600000e+01</td>\n      <td>/SUBSCRIPTIONS/E5250E15-0516-48F0-889B-DAE6C15...</td>\n      <td>2021-02-16T17:36:00.0000000Z</td>\n      <td>memory_percent</td>\n      <td>PT1M</td>\n    </tr>\n    <tr>\n      <th>4</th>\n      <td>1</td>\n      <td>1.600000e+01</td>\n      <td>1.600000e+01</td>\n      <td>1.600000e+01</td>\n      <td>1.600000e+01</td>\n      <td>/SUBSCRIPTIONS/E5250E15-0516-48F0-889B-DAE6C15...</td>\n      <td>2021-02-16T17:37:00.0000000Z</td>\n      <td>memory_percent</td>\n      <td>PT1M</td>\n    </tr>\n    <tr>\n      <th>...</th>\n      <td>...</td>\n      <td>...</td>\n      <td>...</td>\n      <td>...</td>\n      <td>...</td>\n      <td>...</td>\n      <td>...</td>\n      <td>...</td>\n      <td>...</td>\n    </tr>\n    <tr>\n      <th>236</th>\n      <td>2</td>\n      <td>1.200000e+01</td>\n      <td>6.000000e+00</td>\n      <td>6.000000e+00</td>\n      <td>6.000000e+00</td>\n      <td>/SUBSCRIPTIONS/E5250E15-0516-48F0-889B-DAE6C15...</td>\n      <td>2021-02-16T17:58:00.0000000Z</td>\n      <td>active_connections</td>\n      <td>PT1M</td>\n    </tr>\n    <tr>\n      <th>237</th>\n      <td>2</td>\n      <td>1.200000e+01</td>\n      <td>6.000000e+00</td>\n      <td>6.000000e+00</td>\n      <td>6.000000e+00</td>\n      <td>/SUBSCRIPTIONS/E5250E15-0516-48F0-889B-DAE6C15...</td>\n      <td>2021-02-16T17:59:00.0000000Z</td>\n      <td>active_connections</td>\n      <td>PT1M</td>\n    </tr>\n    <tr>\n      <th>238</th>\n      <td>2</td>\n      <td>1.379648e+10</td>\n      <td>6.898238e+09</td>\n      <td>6.898238e+09</td>\n      <td>6.898238e+09</td>\n      <td>/SUBSCRIPTIONS/E5250E15-0516-48F0-889B-DAE6C15...</td>\n      <td>2021-02-16T17:57:00.0000000Z</td>\n      <td>backup_storage_used</td>\n      <td>PT1M</td>\n    </tr>\n    <tr>\n      <th>239</th>\n      <td>2</td>\n      <td>1.379648e+10</td>\n      <td>6.898238e+09</td>\n      <td>6.898238e+09</td>\n      <td>6.898238e+09</td>\n      <td>/SUBSCRIPTIONS/E5250E15-0516-48F0-889B-DAE6C15...</td>\n      <td>2021-02-16T17:58:00.0000000Z</td>\n      <td>backup_storage_used</td>\n      <td>PT1M</td>\n    </tr>\n    <tr>\n      <th>240</th>\n      <td>2</td>\n      <td>1.379648e+10</td>\n      <td>6.898238e+09</td>\n      <td>6.898238e+09</td>\n      <td>6.898238e+09</td>\n      <td>/SUBSCRIPTIONS/E5250E15-0516-48F0-889B-DAE6C15...</td>\n      <td>2021-02-16T17:59:00.0000000Z</td>\n      <td>backup_storage_used</td>\n      <td>PT1M</td>\n    </tr>\n  </tbody>\n</table>\n<p>241 rows × 9 columns</p>\n</div>"
                    },
                    "metadata": {}
                }
            ],
            "execution_count": 5
        }
    ]
}