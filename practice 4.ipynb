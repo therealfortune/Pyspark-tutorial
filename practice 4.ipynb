{
    "metadata": {
        "kernelspec": {
            "name": "python3",
            "display_name": "Python 3 (ipykernel)",
            "language": "python"
        },
        "language_info": {
            "name": "python",
            "version": "3.8.10",
            "mimetype": "text/x-python",
            "codemirror_mode": {
                "name": "ipython",
                "version": 3
            },
            "pygments_lexer": "ipython3",
            "nbconvert_exporter": "python",
            "file_extension": ".py"
        }
    },
    "nbformat_minor": 2,
    "nbformat": 4,
    "cells": [
        {
            "cell_type": "code",
            "source": [
                "import pyspark\r\n",
                "import pandas as pd "
            ],
            "metadata": {
                "azdata_cell_guid": "29138810-e970-4cf5-800e-b43ad01a4c92",
                "language": "python"
            },
            "outputs": [],
            "execution_count": 2
        },
        {
            "cell_type": "code",
            "source": [
                "from pyspark.sql import SparkSession\r\n",
                "\r\n",
                "spark = SparkSession.builder \\\r\n",
                "        .appName('AgG') \\\r\n",
                "        .getOrCreate()\r\n",
                "\r\n",
                "filepath = \"file3.csv\"\r\n",
                "\r\n",
                "df = spark.read.csv(filepath, header = True, inferSchema = True)"
            ],
            "metadata": {
                "azdata_cell_guid": "e36ccd36-f55a-46d1-9c36-f5d9e7dfc8a5",
                "language": "python"
            },
            "outputs": [],
            "execution_count": 10
        },
        {
            "cell_type": "code",
            "source": [
                "df.show(5)"
            ],
            "metadata": {
                "azdata_cell_guid": "3c6bc0b1-c56a-4a4b-b8ec-b7f1ccc60f36",
                "language": "python"
            },
            "outputs": [
                {
                    "output_type": "stream",
                    "name": "stdout",
                    "text": "+------+------------+------+\n|  Name| Departments|salary|\n+------+------------+------+\n| Krish|Data Science| 10000|\n| Krish|         IOT|  5000|\n|Mahesh|    Big Data|  4000|\n| Krish|    Big Data|  4000|\n|Mahesh|Data Science|  3000|\n+------+------------+------+\nonly showing top 5 rows\n\n"
                }
            ],
            "execution_count": 11
        },
        {
            "cell_type": "code",
            "source": [
                "df.printSchema()"
            ],
            "metadata": {
                "azdata_cell_guid": "30113a92-4b80-4570-8a70-4e6db43a5c9a",
                "language": "python"
            },
            "outputs": [
                {
                    "output_type": "stream",
                    "name": "stdout",
                    "text": "root\n |-- Name: string (nullable = true)\n |-- Departments: string (nullable = true)\n |-- salary: integer (nullable = true)\n\n"
                }
            ],
            "execution_count": 12
        },
        {
            "cell_type": "code",
            "source": [
                "df.groupBy('name').sum().show()"
            ],
            "metadata": {
                "azdata_cell_guid": "02fb5a29-4368-4e3a-b80b-f61615ecdc62",
                "language": "python"
            },
            "outputs": [
                {
                    "output_type": "stream",
                    "name": "stdout",
                    "text": "+---------+-----------+\n|     name|sum(salary)|\n+---------+-----------+\n|Sudhanshu|      35000|\n|    Sunny|      12000|\n|    Krish|      19000|\n|   Mahesh|       7000|\n+---------+-----------+\n\n"
                }
            ],
            "execution_count": 27
        },
        {
            "cell_type": "code",
            "source": [
                "df.groupBy('name').avg().show()"
            ],
            "metadata": {
                "azdata_cell_guid": "266bb453-1e37-4efa-81ab-73ed121f1956",
                "language": "python"
            },
            "outputs": [
                {
                    "output_type": "stream",
                    "name": "stdout",
                    "text": "+---------+------------------+\n|     name|       avg(salary)|\n+---------+------------------+\n|Sudhanshu|11666.666666666666|\n|    Sunny|            6000.0|\n|    Krish| 6333.333333333333|\n|   Mahesh|            3500.0|\n+---------+------------------+\n\n"
                }
            ],
            "execution_count": 28
        },
        {
            "cell_type": "code",
            "source": [
                "df.groupBy('Departments').count().show()"
            ],
            "metadata": {
                "azdata_cell_guid": "2da46da3-59e1-4a09-b16d-47422cd19a92",
                "language": "python"
            },
            "outputs": [
                {
                    "output_type": "stream",
                    "name": "stdout",
                    "text": "+------------+-----+\n| Departments|count|\n+------------+-----+\n|         IOT|    2|\n|    Big Data|    4|\n|Data Science|    4|\n+------------+-----+\n\n"
                }
            ],
            "execution_count": 30
        },
        {
            "cell_type": "code",
            "source": [
                "df.agg({'salary' : 'sum'}).show()"
            ],
            "metadata": {
                "azdata_cell_guid": "621f26d7-43a0-46a2-8793-b90793ff4f59",
                "language": "python"
            },
            "outputs": [
                {
                    "output_type": "stream",
                    "name": "stdout",
                    "text": "+-----------+\n|sum(salary)|\n+-----------+\n|      73000|\n+-----------+\n\n"
                }
            ],
            "execution_count": 34
        },
        {
            "cell_type": "code",
            "source": [
                "df.agg({'Salary' : 'avg'}).show()"
            ],
            "metadata": {
                "azdata_cell_guid": "243118fb-8b22-46c4-83b9-bbc0f0cba2cd",
                "language": "python"
            },
            "outputs": [
                {
                    "output_type": "stream",
                    "name": "stdout",
                    "text": "+-----------+\n|avg(Salary)|\n+-----------+\n|     7300.0|\n+-----------+\n\n"
                }
            ],
            "execution_count": 37
        },
        {
            "cell_type": "code",
            "source": [
                "df.agg({'Name':'last'}).show()"
            ],
            "metadata": {
                "azdata_cell_guid": "1db8c868-c0e2-47c1-8fad-a072ef97ce43",
                "language": "python"
            },
            "outputs": [
                {
                    "output_type": "stream",
                    "name": "stdout",
                    "text": "+----------+\n|last(Name)|\n+----------+\n|     Sunny|\n+----------+\n\n"
                }
            ],
            "execution_count": 39
        },
        {
            "cell_type": "code",
            "source": [
                "df.agg({'Name':'count'}).show()"
            ],
            "metadata": {
                "azdata_cell_guid": "f4ea84c9-d30e-449b-ae49-b9cf23ae8bae",
                "language": "python"
            },
            "outputs": [
                {
                    "output_type": "stream",
                    "name": "stdout",
                    "text": "+-----------+\n|count(Name)|\n+-----------+\n|         10|\n+-----------+\n\n"
                }
            ],
            "execution_count": 40
        },
        {
            "cell_type": "code",
            "source": [
                "df.agg({'Name':'first'}).show()"
            ],
            "metadata": {
                "azdata_cell_guid": "46dbb037-14ab-46a6-84ad-f3a8d26dff40",
                "language": "python"
            },
            "outputs": [
                {
                    "output_type": "stream",
                    "name": "stdout",
                    "text": "+-----------+\n|first(Name)|\n+-----------+\n|      Krish|\n+-----------+\n\n"
                }
            ],
            "execution_count": 41
        },
        {
            "cell_type": "code",
            "source": [
                ""
            ],
            "metadata": {
                "azdata_cell_guid": "4a51cf13-e7b1-487b-950b-404e71b16b7d",
                "language": "python"
            },
            "outputs": [],
            "execution_count": null
        },
        {
            "cell_type": "code",
            "source": [
                ""
            ],
            "metadata": {
                "azdata_cell_guid": "92f55a7c-bff5-45c9-b599-2654464c2779",
                "language": "python"
            },
            "outputs": [],
            "execution_count": null
        }
    ]
}