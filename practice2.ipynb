{
    "metadata": {
        "kernelspec": {
            "name": "python3",
            "display_name": "Python 3 (ipykernel)",
            "language": "python"
        },
        "language_info": {
            "name": "python",
            "version": "3.8.10",
            "mimetype": "text/x-python",
            "codemirror_mode": {
                "name": "ipython",
                "version": 3
            },
            "pygments_lexer": "ipython3",
            "nbconvert_exporter": "python",
            "file_extension": ".py"
        }
    },
    "nbformat_minor": 2,
    "nbformat": 4,
    "cells": [
        {
            "cell_type": "code",
            "source": [
                "import pyspark \r\n",
                "import pandas as pd \r\n",
                "import numpy as np"
            ],
            "metadata": {
                "azdata_cell_guid": "2eaaaa1c-2096-4a43-9f90-d780547f9140"
            },
            "outputs": [],
            "execution_count": 1
        },
        {
            "cell_type": "code",
            "source": [
                "from pyspark.sql import SparkSession\r\n",
                "spark = SparkSession.builder\\\r\n",
                "        .appName('CDrop') \\\r\n",
                "        .getOrCreate()"
            ],
            "metadata": {
                "azdata_cell_guid": "fcaf781c-bad3-4fd9-a95b-3515e9aaaf4f"
            },
            "outputs": [],
            "execution_count": 2
        },
        {
            "cell_type": "code",
            "source": [
                "filepath = \"file2.csv\""
            ],
            "metadata": {
                "azdata_cell_guid": "3d75803d-87b4-4fbe-9679-ad3031d7fe38"
            },
            "outputs": [],
            "execution_count": 3
        },
        {
            "cell_type": "code",
            "source": [
                "pf = spark.read.csv(filepath, header = True, inferSchema = True)"
            ],
            "metadata": {
                "azdata_cell_guid": "4c138a4a-e6fb-4aeb-83d1-c4ab24e26693"
            },
            "outputs": [],
            "execution_count": 4
        },
        {
            "cell_type": "code",
            "source": [
                "pf.show()"
            ],
            "metadata": {
                "azdata_cell_guid": "fb321198-ce8f-411e-984d-fe9516cd24fe"
            },
            "outputs": [
                {
                    "name": "stdout",
                    "text": "+---------+----+----------+------+\n|     Name| age|Experience|Salary|\n+---------+----+----------+------+\n|    Krish|  31|        10| 30000|\n|Sudhanshu|  30|         8| 25000|\n|    Sunny|  29|         4| 20000|\n|     Paul|  24|         3| 20000|\n|   Harsha|  21|         1| 15000|\n|  Shubham|  23|         2| 18000|\n|   Mahesh|null|      null| 40000|\n|     null|  34|        10| 38000|\n|     null|  36|      null|  null|\n+---------+----+----------+------+\n\n",
                    "output_type": "stream"
                }
            ],
            "execution_count": 7
        },
        {
            "cell_type": "code",
            "source": [
                "pf.printSchema()"
            ],
            "metadata": {
                "azdata_cell_guid": "ffcb5aed-5555-4c04-92ed-274d17dc350d"
            },
            "outputs": [
                {
                    "name": "stdout",
                    "text": "root\n |-- Name: string (nullable = true)\n |-- age: integer (nullable = true)\n |-- Experience: integer (nullable = true)\n |-- Salary: integer (nullable = true)\n\n",
                    "output_type": "stream"
                }
            ],
            "execution_count": 8
        },
        {
            "cell_type": "code",
            "source": [
                "pf.drop('Name').show(3)"
            ],
            "metadata": {
                "azdata_cell_guid": "4e63e785-10d0-47bf-be41-e62b78f85b77"
            },
            "outputs": [
                {
                    "name": "stdout",
                    "text": "+---+----------+------+\n|age|Experience|Salary|\n+---+----------+------+\n| 31|        10| 30000|\n| 30|         8| 25000|\n| 29|         4| 20000|\n+---+----------+------+\nonly showing top 3 rows\n\n",
                    "output_type": "stream"
                }
            ],
            "execution_count": 10
        },
        {
            "cell_type": "markdown",
            "source": [
                "INDEXING ROWS"
            ],
            "metadata": {
                "azdata_cell_guid": "e69a0933-79e8-4655-9ecf-befedd38ab2d"
            },
            "attachments": {}
        },
        {
            "cell_type": "code",
            "source": [
                "pf.collect()[0:3]"
            ],
            "metadata": {
                "azdata_cell_guid": "164252ef-b349-45d7-8e20-b1cfadcb3f41"
            },
            "outputs": [
                {
                    "data": {
                        "text/plain": "[Row(Name='Krish', age=31, Experience=10, Salary=30000),\n Row(Name='Sudhanshu', age=30, Experience=8, Salary=25000),\n Row(Name='Sunny', age=29, Experience=4, Salary=20000)]"
                    },
                    "metadata": {},
                    "execution_count": 18,
                    "output_type": "execute_result"
                }
            ],
            "execution_count": 18
        },
        {
            "cell_type": "code",
            "source": [
                "# Takes the first row out of the rows returned\r\n",
                "print(pf.collect()[0:3][0])\r\n",
                "\r\n",
                "# Takes the last row out of the rows returned\r\n",
                "\r\n",
                "print(pf.collect()[0:3][-1])"
            ],
            "metadata": {
                "azdata_cell_guid": "d9734527-a7e3-4629-aa76-901872ac520f"
            },
            "outputs": [
                {
                    "name": "stdout",
                    "text": "Row(Name='Krish', age=31, Experience=10, Salary=30000)\nRow(Name='Sunny', age=29, Experience=4, Salary=20000)\n",
                    "output_type": "stream"
                }
            ],
            "execution_count": 28
        },
        {
            "cell_type": "code",
            "source": [
                "pfcollect = pf.collect()"
            ],
            "metadata": {
                "azdata_cell_guid": "aafb2824-c489-4b34-9e4e-9222bde56018"
            },
            "outputs": [],
            "execution_count": 41
        },
        {
            "cell_type": "code",
            "source": [
                "for row in pfcollect:\r\n",
                "    print('Name: ' , row['Name'], ', ', 'Salary: ',row['Salary'])"
            ],
            "metadata": {
                "azdata_cell_guid": "eb0fb5e8-faf6-4857-bdc0-40044772b697"
            },
            "outputs": [
                {
                    "name": "stdout",
                    "text": "Name:  Krish ,  Salary:  30000\nName:  Sudhanshu ,  Salary:  25000\nName:  Sunny ,  Salary:  20000\nName:  Paul ,  Salary:  20000\nName:  Harsha ,  Salary:  15000\nName:  Shubham ,  Salary:  18000\nName:  Mahesh ,  Salary:  40000\nName:  None ,  Salary:  38000\nName:  None ,  Salary:  None\n",
                    "output_type": "stream"
                }
            ],
            "execution_count": 48
        },
        {
            "cell_type": "code",
            "source": [
                "for row in pfcollect:\r\n",
                "    NameExp = 'Name: ' , row['Name'], ', ', 'Salary: ',row['Salary']\r\n",
                "    print(type(NameExp))"
            ],
            "metadata": {
                "azdata_cell_guid": "947b5109-5168-429d-8667-c1127cffce61"
            },
            "outputs": [
                {
                    "name": "stdout",
                    "text": "<class 'tuple'>\n<class 'tuple'>\n<class 'tuple'>\n<class 'tuple'>\n<class 'tuple'>\n<class 'tuple'>\n<class 'tuple'>\n<class 'tuple'>\n<class 'tuple'>\n",
                    "output_type": "stream"
                }
            ],
            "execution_count": 52
        },
        {
            "cell_type": "code",
            "source": [
                "pf.show()"
            ],
            "metadata": {
                "azdata_cell_guid": "84cb35bb-90ce-4da5-bde7-eadcde929bd8"
            },
            "outputs": [
                {
                    "name": "stdout",
                    "text": "+---------+----+----------+------+\n|     Name| age|Experience|Salary|\n+---------+----+----------+------+\n|    Krish|  31|        10| 30000|\n|Sudhanshu|  30|         8| 25000|\n|    Sunny|  29|         4| 20000|\n|     Paul|  24|         3| 20000|\n|   Harsha|  21|         1| 15000|\n|  Shubham|  23|         2| 18000|\n|   Mahesh|null|      null| 40000|\n|     null|  34|        10| 38000|\n|     null|  36|      null|  null|\n+---------+----+----------+------+\n\n",
                    "output_type": "stream"
                }
            ],
            "execution_count": 58
        },
        {
            "cell_type": "code",
            "source": [
                "pf.na.drop().show()"
            ],
            "metadata": {
                "azdata_cell_guid": "45daf976-79e3-4fca-9f53-6d6ab7baead5"
            },
            "outputs": [
                {
                    "name": "stdout",
                    "text": "+---------+---+----------+------+\n|     Name|age|Experience|Salary|\n+---------+---+----------+------+\n|    Krish| 31|        10| 30000|\n|Sudhanshu| 30|         8| 25000|\n|    Sunny| 29|         4| 20000|\n|     Paul| 24|         3| 20000|\n|   Harsha| 21|         1| 15000|\n|  Shubham| 23|         2| 18000|\n+---------+---+----------+------+\n\n",
                    "output_type": "stream"
                }
            ],
            "execution_count": 59
        },
        {
            "cell_type": "code",
            "source": [
                "pf.na.drop(how=\"any\", thresh=3).show()"
            ],
            "metadata": {
                "azdata_cell_guid": "3df8af19-06b5-4f59-8f17-edd0f062983d"
            },
            "outputs": [
                {
                    "name": "stdout",
                    "text": "+---------+---+----------+------+\n|     Name|age|Experience|Salary|\n+---------+---+----------+------+\n|    Krish| 31|        10| 30000|\n|Sudhanshu| 30|         8| 25000|\n|    Sunny| 29|         4| 20000|\n|     Paul| 24|         3| 20000|\n|   Harsha| 21|         1| 15000|\n|  Shubham| 23|         2| 18000|\n|     null| 34|        10| 38000|\n+---------+---+----------+------+\n\n",
                    "output_type": "stream"
                }
            ],
            "execution_count": 79
        },
        {
            "cell_type": "code",
            "source": [
                "pf.filter(pf.Experience.isNull()).show()"
            ],
            "metadata": {
                "azdata_cell_guid": "c64eb369-6a35-4330-9177-778a2fa78a34"
            },
            "outputs": [
                {
                    "name": "stdout",
                    "text": "+------+----+----------+------+\n|  Name| age|Experience|Salary|\n+------+----+----------+------+\n|Mahesh|null|      null| 40000|\n|  null|  36|      null|  null|\n+------+----+----------+------+\n\n",
                    "output_type": "stream"
                }
            ],
            "execution_count": 87
        },
        {
            "cell_type": "code",
            "source": [
                "from pyspark.ml.feature import Imputer \r\n",
                "\r\n",
                "imputer = Imputer (\r\n",
                "    inputCols = ['age', 'Experience', 'Salary'], \r\n",
                "    outputCols = [\"{}_inputed\".format(c) for c in ['age', 'Experience', 'Salary']]\r\n",
                ").setStrategy('median') "
            ],
            "metadata": {
                "azdata_cell_guid": "94489ad2-7663-4aff-ba7f-2bf075b7ccfc"
            },
            "outputs": [],
            "execution_count": 144
        },
        {
            "cell_type": "code",
            "source": [
                "new_pf = imputer.fit(pf).transform(pf)"
            ],
            "metadata": {
                "azdata_cell_guid": "e8b82e7a-36df-45e2-8de2-b1f60a941f15"
            },
            "outputs": [],
            "execution_count": 145
        },
        {
            "cell_type": "code",
            "source": [
                "new_pf.show()"
            ],
            "metadata": {
                "azdata_cell_guid": "bbebee7b-caca-40ce-a030-65dccea23af4"
            },
            "outputs": [
                {
                    "name": "stdout",
                    "text": "+---------+----+----------+------+-----------+------------------+--------------+\n|     Name| age|Experience|Salary|age_inputed|Experience_inputed|Salary_inputed|\n+---------+----+----------+------+-----------+------------------+--------------+\n|    Krish|  31|        10| 30000|         31|                10|         30000|\n|Sudhanshu|  30|         8| 25000|         30|                 8|         25000|\n|    Sunny|  29|         4| 20000|         29|                 4|         20000|\n|     Paul|  24|         3| 20000|         24|                 3|         20000|\n|   Harsha|  21|         1| 15000|         21|                 1|         15000|\n|  Shubham|  23|         2| 18000|         23|                 2|         18000|\n|   Mahesh|null|      null| 40000|         29|                 4|         40000|\n|     null|  34|        10| 38000|         34|                10|         38000|\n|     null|  36|      null|  null|         36|                 4|         20000|\n+---------+----+----------+------+-----------+------------------+--------------+\n\n",
                    "output_type": "stream"
                }
            ],
            "execution_count": 146
        },
        {
            "cell_type": "code",
            "source": [
                "cleanPf = new_pf.drop('age', 'Experience', 'Salary')"
            ],
            "metadata": {
                "azdata_cell_guid": "08762fd5-b7b6-49a8-bb1f-faaea23dd89c"
            },
            "outputs": [],
            "execution_count": 147
        },
        {
            "cell_type": "code",
            "source": [
                "cleanPf.show()"
            ],
            "metadata": {
                "azdata_cell_guid": "b635a672-ab99-4518-b333-bf6584820410"
            },
            "outputs": [
                {
                    "name": "stdout",
                    "text": "+---------+-----------+------------------+--------------+\n|     Name|age_inputed|Experience_inputed|Salary_inputed|\n+---------+-----------+------------------+--------------+\n|    Krish|         31|                10|         30000|\n|Sudhanshu|         30|                 8|         25000|\n|    Sunny|         29|                 4|         20000|\n|     Paul|         24|                 3|         20000|\n|   Harsha|         21|                 1|         15000|\n|  Shubham|         23|                 2|         18000|\n|   Mahesh|         29|                 4|         40000|\n|     null|         34|                10|         38000|\n|     null|         36|                 4|         20000|\n+---------+-----------+------------------+--------------+\n\n",
                    "output_type": "stream"
                }
            ],
            "execution_count": 148
        },
        {
            "cell_type": "code",
            "source": [
                "cleanPf = cleanPf.withColumnRenamed('age_inputed', 'age')\r\n",
                "cleanPf = cleanPf.withColumnRenamed('Experience_inputed', 'Experience')\r\n",
                "cleanPf = cleanPf.withColumnRenamed('Salary_inputed', 'Salary')"
            ],
            "metadata": {
                "azdata_cell_guid": "053601f1-968a-485a-bfab-c1351e2b4a8b"
            },
            "outputs": [],
            "execution_count": 158
        },
        {
            "cell_type": "code",
            "source": [
                "cleanPf.show()"
            ],
            "metadata": {
                "azdata_cell_guid": "48df5187-daba-42f8-9999-3bafdecb85d2"
            },
            "outputs": [
                {
                    "name": "stdout",
                    "text": "+---------+---+----------+------+\n|     Name|age|Experience|Salary|\n+---------+---+----------+------+\n|    Krish| 31|        10| 30000|\n|Sudhanshu| 30|         8| 25000|\n|    Sunny| 29|         4| 20000|\n|     Paul| 24|         3| 20000|\n|   Harsha| 21|         1| 15000|\n|  Shubham| 23|         2| 18000|\n|   Mahesh| 29|         4| 40000|\n|     null| 34|        10| 38000|\n|     null| 36|         4| 20000|\n+---------+---+----------+------+\n\n",
                    "output_type": "stream"
                }
            ],
            "execution_count": 160
        },
        {
            "cell_type": "code",
            "source": [
                ""
            ],
            "metadata": {
                "azdata_cell_guid": "dd5e0d59-51e9-4cbf-82ae-52f20fbc025d"
            },
            "outputs": [],
            "execution_count": 160
        },
        {
            "cell_type": "code",
            "source": [
                ""
            ],
            "metadata": {
                "azdata_cell_guid": "5966e333-bd6d-49eb-ae48-c2bb30e82ee4"
            },
            "outputs": [],
            "execution_count": null
        }
    ]
}