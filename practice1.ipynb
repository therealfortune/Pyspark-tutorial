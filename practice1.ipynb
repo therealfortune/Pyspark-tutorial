{
    "metadata": {
        "kernelspec": {
            "name": "python3",
            "display_name": "Python 3 (ipykernel)",
            "language": "python"
        },
        "language_info": {
            "name": "python",
            "version": "3.8.10",
            "mimetype": "text/x-python",
            "codemirror_mode": {
                "name": "ipython",
                "version": 3
            },
            "pygments_lexer": "ipython3",
            "nbconvert_exporter": "python",
            "file_extension": ".py"
        }
    },
    "nbformat_minor": 2,
    "nbformat": 4,
    "cells": [
        {
            "cell_type": "code",
            "source": [
                "import pandas as pd \r\n",
                "import pyspark "
            ],
            "metadata": {
                "azdata_cell_guid": "8a46152e-2bc6-42ec-b7b0-ffb5990f987c"
            },
            "outputs": [],
            "execution_count": 1
        },
        {
            "cell_type": "code",
            "source": [
                "from pyspark.sql import SparkSession"
            ],
            "metadata": {
                "azdata_cell_guid": "5e420022-4a73-4911-b02f-757ade1afe54"
            },
            "outputs": [],
            "execution_count": 3
        },
        {
            "cell_type": "code",
            "source": [
                "spark = SparkSession.builder.appName('DataFrame').getOrCreate()"
            ],
            "metadata": {
                "azdata_cell_guid": "fee7e01d-a466-4bf0-9398-080119fb6825"
            },
            "outputs": [],
            "execution_count": 4
        },
        {
            "cell_type": "code",
            "source": [
                "spark"
            ],
            "metadata": {
                "azdata_cell_guid": "c4e505df-402e-481d-ac56-74b20887a6e7"
            },
            "outputs": [
                {
                    "data": {
                        "text/plain": "<pyspark.sql.session.SparkSession at 0x252f40a3070>",
                        "text/html": "\n            <div>\n                <p><b>SparkSession - in-memory</b></p>\n                \n        <div>\n            <p><b>SparkContext</b></p>\n\n            <p><a href=\"http://host.docker.internal:4040\">Spark UI</a></p>\n\n            <dl>\n              <dt>Version</dt>\n                <dd><code>v3.3.0</code></dd>\n              <dt>Master</dt>\n                <dd><code>local[*]</code></dd>\n              <dt>AppName</dt>\n                <dd><code>DataFrame</code></dd>\n            </dl>\n        </div>\n        \n            </div>\n        "
                    },
                    "metadata": {},
                    "execution_count": 5,
                    "output_type": "execute_result"
                }
            ],
            "execution_count": 5
        },
        {
            "cell_type": "code",
            "source": [
                "df = spark.read.option('header', 'true').csv('file1.csv', inferSchema = True)"
            ],
            "metadata": {
                "azdata_cell_guid": "e39f9601-5306-4f7d-a6f8-ddf0f824688a"
            },
            "outputs": [],
            "execution_count": 66
        },
        {
            "cell_type": "code",
            "source": [
                "df.printSchema()"
            ],
            "metadata": {
                "azdata_cell_guid": "bc717b51-aa1c-4406-9256-5d7abefcea7d"
            },
            "outputs": [
                {
                    "name": "stdout",
                    "text": "root\n |-- Name: string (nullable = true)\n |-- age: integer (nullable = true)\n |-- Experience: integer (nullable = true)\n |-- Salary: integer (nullable = true)\n\n",
                    "output_type": "stream"
                }
            ],
            "execution_count": 67
        },
        {
            "cell_type": "code",
            "source": [
                "df = spark.read.csv('file1.csv', header = True, inferSchema = True)"
            ],
            "metadata": {
                "azdata_cell_guid": "b38fbf33-21ec-4481-840e-61a7971c9ed3"
            },
            "outputs": [],
            "execution_count": 69
        },
        {
            "cell_type": "code",
            "source": [
                "df.printSchema()"
            ],
            "metadata": {
                "azdata_cell_guid": "38ca2453-b6e8-4daa-a357-a2faf7de032f"
            },
            "outputs": [
                {
                    "name": "stdout",
                    "text": "root\n |-- Name: string (nullable = true)\n |-- age: integer (nullable = true)\n |-- Experience: integer (nullable = true)\n |-- Salary: integer (nullable = true)\n\n",
                    "output_type": "stream"
                }
            ],
            "execution_count": 70
        },
        {
            "cell_type": "code",
            "source": [
                "type(df)"
            ],
            "metadata": {
                "azdata_cell_guid": "0d2b5cc7-3e80-411a-9d35-c4bc1e3b63b0"
            },
            "outputs": [
                {
                    "data": {
                        "text/plain": "pyspark.sql.dataframe.DataFrame"
                    },
                    "metadata": {},
                    "execution_count": 71,
                    "output_type": "execute_result"
                }
            ],
            "execution_count": 71
        },
        {
            "cell_type": "code",
            "source": [
                "df.take(2)"
            ],
            "metadata": {
                "azdata_cell_guid": "de541376-fa6e-4260-9e2e-f5a7097e568a"
            },
            "outputs": [
                {
                    "data": {
                        "text/plain": "[Row(Name='Krish', age=31, Experience=10, Salary=30000),\n Row(Name='Sudhanshu', age=30, Experience=8, Salary=25000)]"
                    },
                    "metadata": {},
                    "execution_count": 72,
                    "output_type": "execute_result"
                }
            ],
            "execution_count": 72
        },
        {
            "cell_type": "code",
            "source": [
                "df.select(['Name', 'Experience']).show()"
            ],
            "metadata": {
                "azdata_cell_guid": "a666b53f-a027-4eea-b538-561f41ac4a3c"
            },
            "outputs": [
                {
                    "name": "stdout",
                    "text": "+---------+----------+\n|     Name|Experience|\n+---------+----------+\n|    Krish|        10|\n|Sudhanshu|         8|\n|    Sunny|         4|\n|     Paul|         3|\n|   Harsha|         1|\n|  Shubham|         2|\n+---------+----------+\n\n",
                    "output_type": "stream"
                }
            ],
            "execution_count": 74
        },
        {
            "cell_type": "code",
            "source": [
                "df.describe().show()"
            ],
            "metadata": {
                "azdata_cell_guid": "a1dbe8b5-241f-426c-a3a2-de528049258f"
            },
            "outputs": [
                {
                    "name": "stdout",
                    "text": "+-------+------+------------------+-----------------+------------------+\n|summary|  Name|               age|       Experience|            Salary|\n+-------+------+------------------+-----------------+------------------+\n|  count|     6|                 6|                6|                 6|\n|   mean|  null|26.333333333333332|4.666666666666667|21333.333333333332|\n| stddev|  null| 4.179314138308661|3.559026084010437| 5354.126134736337|\n|    min|Harsha|                21|                1|             15000|\n|    max| Sunny|                31|               10|             30000|\n+-------+------+------------------+-----------------+------------------+\n\n",
                    "output_type": "stream"
                }
            ],
            "execution_count": 63
        },
        {
            "cell_type": "code",
            "source": [
                "df = df.withColumn('Experience next 2 years', df['Experience']+2)"
            ],
            "metadata": {
                "azdata_cell_guid": "b464bcad-61b1-40f5-b64f-c4539b20695b",
                "tags": []
            },
            "outputs": [],
            "execution_count": 81
        },
        {
            "cell_type": "code",
            "source": [
                "df.show()"
            ],
            "metadata": {
                "azdata_cell_guid": "1ba8d5f4-7fe3-4b46-a8fa-256f3d56b9e6"
            },
            "outputs": [
                {
                    "name": "stdout",
                    "text": "+---------+---+----------+------+-----------------------+-----------------------+\n|     Name|age|Experience|Salary|Experience After 2 year|Experience next 2 years|\n+---------+---+----------+------+-----------------------+-----------------------+\n|    Krish| 31|        10| 30000|                     12|                     12|\n|Sudhanshu| 30|         8| 25000|                     10|                     10|\n|    Sunny| 29|         4| 20000|                      6|                      6|\n|     Paul| 24|         3| 20000|                      5|                      5|\n|   Harsha| 21|         1| 15000|                      3|                      3|\n|  Shubham| 23|         2| 18000|                      4|                      4|\n+---------+---+----------+------+-----------------------+-----------------------+\n\n",
                    "output_type": "stream"
                }
            ],
            "execution_count": 83
        },
        {
            "cell_type": "code",
            "source": [
                "df = df.drop('Experience After 2 year')"
            ],
            "metadata": {
                "azdata_cell_guid": "3b6ce274-bc68-4dba-b39b-6e05c4ea91fb"
            },
            "outputs": [],
            "execution_count": 85
        },
        {
            "cell_type": "code",
            "source": [
                "df.show()"
            ],
            "metadata": {
                "azdata_cell_guid": "28b88c59-c41d-4020-97bd-1aa040b0de12"
            },
            "outputs": [
                {
                    "name": "stdout",
                    "text": "+---------+---+----------+------+-----------------------+\n|     Name|age|Experience|Salary|Experience next 2 years|\n+---------+---+----------+------+-----------------------+\n|    Krish| 31|        10| 30000|                     12|\n|Sudhanshu| 30|         8| 25000|                     10|\n|    Sunny| 29|         4| 20000|                      6|\n|     Paul| 24|         3| 20000|                      5|\n|   Harsha| 21|         1| 15000|                      3|\n|  Shubham| 23|         2| 18000|                      4|\n+---------+---+----------+------+-----------------------+\n\n",
                    "output_type": "stream"
                }
            ],
            "execution_count": 86
        },
        {
            "cell_type": "code",
            "source": [
                "df = df.drop('Experience next 2 years')"
            ],
            "metadata": {
                "azdata_cell_guid": "9883ceb8-80bb-4f82-9963-1d70e7bff3b2"
            },
            "outputs": [],
            "execution_count": 89
        },
        {
            "cell_type": "code",
            "source": [
                "df.show()"
            ],
            "metadata": {
                "azdata_cell_guid": "eb092f1f-a5f8-4b24-b0a0-f5059b0a1d5a"
            },
            "outputs": [
                {
                    "name": "stdout",
                    "text": "+---------+---+----------+------+\n|     Name|age|Experience|Salary|\n+---------+---+----------+------+\n|    Krish| 31|        10| 30000|\n|Sudhanshu| 30|         8| 25000|\n|    Sunny| 29|         4| 20000|\n|     Paul| 24|         3| 20000|\n|   Harsha| 21|         1| 15000|\n|  Shubham| 23|         2| 18000|\n+---------+---+----------+------+\n\n",
                    "output_type": "stream"
                }
            ],
            "execution_count": 90
        },
        {
            "cell_type": "code",
            "source": [
                "df2 = df.withColumnRenamed('Name', 'New Name').show()"
            ],
            "metadata": {
                "azdata_cell_guid": "d14ca3bb-bce7-4ba3-aaa8-dfce1141d286"
            },
            "outputs": [
                {
                    "name": "stdout",
                    "text": "+---------+---+----------+------+\n| New Name|age|Experience|Salary|\n+---------+---+----------+------+\n|    Krish| 31|        10| 30000|\n|Sudhanshu| 30|         8| 25000|\n|    Sunny| 29|         4| 20000|\n|     Paul| 24|         3| 20000|\n|   Harsha| 21|         1| 15000|\n|  Shubham| 23|         2| 18000|\n+---------+---+----------+------+\n\n",
                    "output_type": "stream"
                }
            ],
            "execution_count": 98
        },
        {
            "cell_type": "code",
            "source": [
                "df.show()"
            ],
            "metadata": {
                "azdata_cell_guid": "8d54f2d7-0849-46b0-ba90-06481b3efd84"
            },
            "outputs": [
                {
                    "name": "stdout",
                    "text": "+---------+---+----------+------+\n|     Name|age|Experience|Salary|\n+---------+---+----------+------+\n|    Krish| 31|        10| 30000|\n|Sudhanshu| 30|         8| 25000|\n|    Sunny| 29|         4| 20000|\n|     Paul| 24|         3| 20000|\n|   Harsha| 21|         1| 15000|\n|  Shubham| 23|         2| 18000|\n+---------+---+----------+------+\n\n",
                    "output_type": "stream"
                }
            ],
            "execution_count": 96
        },
        {
            "cell_type": "code",
            "source": [
                ""
            ],
            "metadata": {
                "azdata_cell_guid": "0e7f70ba-6f3e-4de9-a4a5-f18953d11c36"
            },
            "outputs": [],
            "execution_count": null
        },
        {
            "cell_type": "code",
            "source": [
                ""
            ],
            "metadata": {
                "azdata_cell_guid": "00792d7e-9468-453b-a775-bfb893b1cd7a"
            },
            "outputs": [],
            "execution_count": null
        },
        {
            "cell_type": "code",
            "source": [
                ""
            ],
            "metadata": {
                "azdata_cell_guid": "cc339c97-955b-4fc9-9e24-e3c666178fc3"
            },
            "outputs": [],
            "execution_count": null
        },
        {
            "cell_type": "code",
            "source": [
                ""
            ],
            "metadata": {
                "azdata_cell_guid": "efd6bd3a-0fad-4b3d-bc5c-388ebc0e3022"
            },
            "outputs": [],
            "execution_count": null
        },
        {
            "cell_type": "code",
            "source": [
                ""
            ],
            "metadata": {
                "azdata_cell_guid": "f257fc47-ef4f-4d76-972b-ca731f75f870"
            },
            "outputs": [],
            "execution_count": null
        }
    ]
}