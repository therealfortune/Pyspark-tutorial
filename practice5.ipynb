{
    "metadata": {
        "kernelspec": {
            "name": "python3",
            "display_name": "Python 3 (ipykernel)",
            "language": "python"
        },
        "language_info": {
            "name": "python",
            "version": "3.8.10",
            "mimetype": "text/x-python",
            "codemirror_mode": {
                "name": "ipython",
                "version": 3
            },
            "pygments_lexer": "ipython3",
            "nbconvert_exporter": "python",
            "file_extension": ".py"
        }
    },
    "nbformat_minor": 2,
    "nbformat": 4,
    "cells": [
        {
            "cell_type": "code",
            "source": [
                "import pyspark"
            ],
            "metadata": {
                "azdata_cell_guid": "d113d7b5-764d-4f8d-8b64-65b3248827e2",
                "language": "python"
            },
            "outputs": [],
            "execution_count": 3
        },
        {
            "cell_type": "code",
            "source": [
                "from pyspark.sql import SparkSession\r\n",
                "\r\n",
                "spark = SparkSession.builder.appName('dfml').getOrCreate()\r\n",
                "spark"
            ],
            "metadata": {
                "azdata_cell_guid": "0c094d73-1675-492c-8731-6840a629edd0",
                "language": "python"
            },
            "outputs": [
                {
                    "output_type": "execute_result",
                    "execution_count": 16,
                    "data": {
                        "text/plain": "<pyspark.sql.session.SparkSession at 0x17bade552e0>",
                        "text/html": "\n            <div>\n                <p><b>SparkSession - in-memory</b></p>\n                \n        <div>\n            <p><b>SparkContext</b></p>\n\n            <p><a href=\"http://host.docker.internal:4040\">Spark UI</a></p>\n\n            <dl>\n              <dt>Version</dt>\n                <dd><code>v3.3.0</code></dd>\n              <dt>Master</dt>\n                <dd><code>local[*]</code></dd>\n              <dt>AppName</dt>\n                <dd><code>dfml</code></dd>\n            </dl>\n        </div>\n        \n            </div>\n        "
                    },
                    "metadata": {}
                }
            ],
            "execution_count": 16
        },
        {
            "cell_type": "code",
            "source": [
                "filepath = \"file1.csv\"\r\n",
                "training = spark.read.csv(filepath, header = True, inferSchema = True)\r\n",
                "training.show()"
            ],
            "metadata": {
                "azdata_cell_guid": "da1aa10c-52c3-470d-8c16-02c545794f46",
                "language": "python"
            },
            "outputs": [
                {
                    "output_type": "stream",
                    "name": "stdout",
                    "text": "+---------+---+----------+------+\n|     Name|age|Experience|Salary|\n+---------+---+----------+------+\n|    Krish| 31|        10| 30000|\n|Sudhanshu| 30|         8| 25000|\n|    Sunny| 29|         4| 20000|\n|     Paul| 24|         3| 20000|\n|   Harsha| 21|         1| 15000|\n|  Shubham| 23|         2| 18000|\n+---------+---+----------+------+\n\n"
                }
            ],
            "execution_count": 17
        },
        {
            "cell_type": "code",
            "source": [
                "training.printSchema()"
            ],
            "metadata": {
                "azdata_cell_guid": "c4f19784-67c9-4891-81be-74936cda577f",
                "language": "python"
            },
            "outputs": [
                {
                    "output_type": "stream",
                    "name": "stdout",
                    "text": "root\n |-- Name: string (nullable = true)\n |-- age: integer (nullable = true)\n |-- Experience: integer (nullable = true)\n |-- Salary: integer (nullable = true)\n\n"
                }
            ],
            "execution_count": 18
        },
        {
            "cell_type": "code",
            "source": [
                "training.columns"
            ],
            "metadata": {
                "azdata_cell_guid": "0fb681fe-2627-4aa8-8d86-22384d463fe4",
                "language": "python"
            },
            "outputs": [
                {
                    "output_type": "execute_result",
                    "execution_count": 19,
                    "data": {
                        "text/plain": "['Name', 'age', 'Experience', 'Salary']"
                    },
                    "metadata": {}
                }
            ],
            "execution_count": 19
        },
        {
            "cell_type": "code",
            "source": [
                "from pyspark.ml.feature import VectorAssembler\r\n",
                "featureAssembler = VectorAssembler(inputCols = ['age', 'Experience'], outputCol = 'Independent Features')"
            ],
            "metadata": {
                "azdata_cell_guid": "071ee33e-f229-4763-9082-5b8ea74848d9",
                "language": "python"
            },
            "outputs": [],
            "execution_count": 25
        },
        {
            "cell_type": "code",
            "source": [
                "output = featureAssembler.transform(training)"
            ],
            "metadata": {
                "azdata_cell_guid": "cb8284eb-4259-450f-b02e-cf1f40abee07",
                "language": "python"
            },
            "outputs": [],
            "execution_count": 26
        },
        {
            "cell_type": "code",
            "source": [
                "output.show()"
            ],
            "metadata": {
                "azdata_cell_guid": "0d59992a-eb10-434e-8aa1-6c4c4e1159b9",
                "language": "python"
            },
            "outputs": [
                {
                    "output_type": "stream",
                    "name": "stdout",
                    "text": "+---------+---+----------+------+--------------------+\n|     Name|age|Experience|Salary|Independent Features|\n+---------+---+----------+------+--------------------+\n|    Krish| 31|        10| 30000|         [31.0,10.0]|\n|Sudhanshu| 30|         8| 25000|          [30.0,8.0]|\n|    Sunny| 29|         4| 20000|          [29.0,4.0]|\n|     Paul| 24|         3| 20000|          [24.0,3.0]|\n|   Harsha| 21|         1| 15000|          [21.0,1.0]|\n|  Shubham| 23|         2| 18000|          [23.0,2.0]|\n+---------+---+----------+------+--------------------+\n\n"
                }
            ],
            "execution_count": 27
        },
        {
            "cell_type": "code",
            "source": [
                "output.printSchema()"
            ],
            "metadata": {
                "azdata_cell_guid": "f8f43645-eedd-4baf-9aaa-52e18ff69b08",
                "language": "python"
            },
            "outputs": [
                {
                    "output_type": "stream",
                    "name": "stdout",
                    "text": "root\n |-- Name: string (nullable = true)\n |-- age: integer (nullable = true)\n |-- Experience: integer (nullable = true)\n |-- Salary: integer (nullable = true)\n |-- Independent Features: vector (nullable = true)\n\n"
                }
            ],
            "execution_count": 28
        },
        {
            "cell_type": "code",
            "source": [
                "output.columns"
            ],
            "metadata": {
                "azdata_cell_guid": "752c51d3-fb1b-4682-9e25-ea5655828539",
                "language": "python"
            },
            "outputs": [
                {
                    "output_type": "execute_result",
                    "execution_count": 29,
                    "data": {
                        "text/plain": "['Name', 'age', 'Experience', 'Salary', 'Independent Features']"
                    },
                    "metadata": {}
                }
            ],
            "execution_count": 29
        },
        {
            "cell_type": "code",
            "source": [
                "data = output.select(['Independent Features', \"Salary\"])"
            ],
            "metadata": {
                "azdata_cell_guid": "07390d5f-d4a0-4629-a9fe-a7af42c67b4d",
                "language": "python"
            },
            "outputs": [],
            "execution_count": 30
        },
        {
            "cell_type": "code",
            "source": [
                "data.show()"
            ],
            "metadata": {
                "azdata_cell_guid": "370ff0ff-cc58-47bc-9fe6-99490a36af14",
                "language": "python"
            },
            "outputs": [
                {
                    "output_type": "stream",
                    "name": "stdout",
                    "text": "+--------------------+------+\n|Independent Features|Salary|\n+--------------------+------+\n|         [31.0,10.0]| 30000|\n|          [30.0,8.0]| 25000|\n|          [29.0,4.0]| 20000|\n|          [24.0,3.0]| 20000|\n|          [21.0,1.0]| 15000|\n|          [23.0,2.0]| 18000|\n+--------------------+------+\n\n"
                }
            ],
            "execution_count": 31
        },
        {
            "cell_type": "code",
            "source": [
                "from pyspark.ml.regression import LinearRegression \r\n",
                "X_train , y_train = data.randomSplit([0.75,0.25])\r\n",
                "regressor = LinearRegression(featuresCol = \"Independent Features\", labelCol = \"Salary\")\r\n",
                "regressor = regressor.fit(X_train)"
            ],
            "metadata": {
                "azdata_cell_guid": "249874ed-509b-4ae7-af27-350da1fb358a",
                "language": "python"
            },
            "outputs": [],
            "execution_count": 34
        },
        {
            "cell_type": "code",
            "source": [
                "y_pred = regressor.evaluate(X_train)"
            ],
            "metadata": {
                "azdata_cell_guid": "681b4691-62a2-46ed-8ec6-e51c748170b3",
                "language": "python"
            },
            "outputs": [],
            "execution_count": 38
        },
        {
            "cell_type": "code",
            "source": [
                "y_pred.predictions.show()"
            ],
            "metadata": {
                "azdata_cell_guid": "2814c3cb-5d12-45d9-9f99-f3cf6f3b016d",
                "language": "python"
            },
            "outputs": [
                {
                    "output_type": "stream",
                    "name": "stdout",
                    "text": "+--------------------+------+------------------+\n|Independent Features|Salary|        prediction|\n+--------------------+------+------------------+\n|          [21.0,1.0]| 15000|16169.179229480775|\n|          [23.0,2.0]| 18000|17497.487437185944|\n|          [24.0,3.0]| 20000|18797.319932998347|\n|          [29.0,4.0]| 20000| 20211.05527638182|\n|          [30.0,8.0]| 25000|25324.958123953118|\n+--------------------+------+------------------+\n\n"
                }
            ],
            "execution_count": 39
        },
        {
            "cell_type": "code",
            "source": [
                ""
            ],
            "metadata": {
                "azdata_cell_guid": "6201563c-546c-4f04-b50c-d99759ca2fd5",
                "language": "python"
            },
            "outputs": [],
            "execution_count": null
        }
    ]
}